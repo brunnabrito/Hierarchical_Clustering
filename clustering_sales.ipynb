{
 "cells": [
  {
   "cell_type": "markdown",
   "metadata": {},
   "source": [
    "# Projeto para Treinar Clustering\n",
    "\n",
    "## Descrição do Projeto\n",
    "Este projeto é uma oportunidade para aplicar os conhecimentos adquiridos durante o MBA em Data Science e Analytics na USP/Esalq, explorando técnicas avançadas de análise de dados para insights estratégicos no contexto de e-commerce.\n",
    "\n",
    "Utilizando técnicas de clustering para segmentar produtos com base nos métodos de fulfilment (Amazon e Merchant) em um ambiente de e-commerce. O objetivo é explorar como diferentes métodos de entrega afetam a distribuição de categorias de produtos. Forcencendo dados para otimização de operações logísticas e estratégias de vendas.\n",
    "\n",
    "## Base de Dados\n",
    "Utilizarei a base de dados disponível no Kaggle, que contém dados de vendas da Amazon.\n",
    "\n",
    "### Link para a Base de Dados\n",
    "[Acesse a base de dados no Kaggle](https://www.kaggle.com/datasets/thedevastator/unlock-profits-with-e-commerce-sales-data?resource=download)"
   ]
  },
  {
   "cell_type": "markdown",
   "metadata": {},
   "source": [
    "### Importar bibliotecas e configurações"
   ]
  },
  {
   "cell_type": "code",
   "execution_count": 199,
   "metadata": {},
   "outputs": [],
   "source": [
    "## importando as bibliotecas\n",
    "\n",
    "import pandas as pd\n",
    "import numpy as np\n",
    "import seaborn as sns\n",
    "import matplotlib.pyplot as plt\n",
    "\n",
    "from scipy import stats\n",
    "from scipy.spatial.distance import pdist\n",
    "\n",
    "from sklearn.preprocessing import StandardScaler\n",
    "from sklearn.cluster import AgglomerativeClustering\n",
    "from scipy.cluster.hierarchy import dendrogram, linkage"
   ]
  },
  {
   "cell_type": "code",
   "execution_count": 200,
   "metadata": {},
   "outputs": [],
   "source": [
    "## configurações\n",
    "pd.set_option('display.max_columns', None)"
   ]
  },
  {
   "cell_type": "markdown",
   "metadata": {},
   "source": [
    "### Carregar e conhecer o dataset"
   ]
  },
  {
   "cell_type": "code",
   "execution_count": 201,
   "metadata": {},
   "outputs": [
    {
     "name": "stderr",
     "output_type": "stream",
     "text": [
      "/var/folders/9t/811ftl5j13d0fm2p8565b9b80000gn/T/ipykernel_50376/3241588029.py:2: DtypeWarning: Columns (23) have mixed types. Specify dtype option on import or set low_memory=False.\n",
      "  df = pd.read_csv('/Users/brunnabrito/Desktop/projeto clustering/Amazon Sale Report.csv')\n"
     ]
    }
   ],
   "source": [
    "# Carregar os dados \n",
    "df = pd.read_csv('/Users/brunnabrito/Desktop/projeto clustering/Amazon Sale Report.csv')"
   ]
  },
  {
   "cell_type": "code",
   "execution_count": 202,
   "metadata": {},
   "outputs": [
    {
     "data": {
      "text/html": [
       "<div>\n",
       "<style scoped>\n",
       "    .dataframe tbody tr th:only-of-type {\n",
       "        vertical-align: middle;\n",
       "    }\n",
       "\n",
       "    .dataframe tbody tr th {\n",
       "        vertical-align: top;\n",
       "    }\n",
       "\n",
       "    .dataframe thead th {\n",
       "        text-align: right;\n",
       "    }\n",
       "</style>\n",
       "<table border=\"1\" class=\"dataframe\">\n",
       "  <thead>\n",
       "    <tr style=\"text-align: right;\">\n",
       "      <th></th>\n",
       "      <th>index</th>\n",
       "      <th>Order ID</th>\n",
       "      <th>Date</th>\n",
       "      <th>Status</th>\n",
       "      <th>Fulfilment</th>\n",
       "      <th>Sales Channel</th>\n",
       "      <th>ship-service-level</th>\n",
       "      <th>Style</th>\n",
       "      <th>SKU</th>\n",
       "      <th>Category</th>\n",
       "      <th>Size</th>\n",
       "      <th>ASIN</th>\n",
       "      <th>Courier Status</th>\n",
       "      <th>Qty</th>\n",
       "      <th>currency</th>\n",
       "      <th>Amount</th>\n",
       "      <th>ship-city</th>\n",
       "      <th>ship-state</th>\n",
       "      <th>ship-postal-code</th>\n",
       "      <th>ship-country</th>\n",
       "      <th>promotion-ids</th>\n",
       "      <th>B2B</th>\n",
       "      <th>fulfilled-by</th>\n",
       "      <th>Unnamed: 22</th>\n",
       "    </tr>\n",
       "  </thead>\n",
       "  <tbody>\n",
       "    <tr>\n",
       "      <th>0</th>\n",
       "      <td>0</td>\n",
       "      <td>405-8078784-5731545</td>\n",
       "      <td>04-30-22</td>\n",
       "      <td>Cancelled</td>\n",
       "      <td>Merchant</td>\n",
       "      <td>Amazon.in</td>\n",
       "      <td>Standard</td>\n",
       "      <td>SET389</td>\n",
       "      <td>SET389-KR-NP-S</td>\n",
       "      <td>Set</td>\n",
       "      <td>S</td>\n",
       "      <td>B09KXVBD7Z</td>\n",
       "      <td>NaN</td>\n",
       "      <td>0</td>\n",
       "      <td>INR</td>\n",
       "      <td>647.62</td>\n",
       "      <td>MUMBAI</td>\n",
       "      <td>MAHARASHTRA</td>\n",
       "      <td>400081.0</td>\n",
       "      <td>IN</td>\n",
       "      <td>NaN</td>\n",
       "      <td>False</td>\n",
       "      <td>Easy Ship</td>\n",
       "      <td>NaN</td>\n",
       "    </tr>\n",
       "    <tr>\n",
       "      <th>1</th>\n",
       "      <td>1</td>\n",
       "      <td>171-9198151-1101146</td>\n",
       "      <td>04-30-22</td>\n",
       "      <td>Shipped - Delivered to Buyer</td>\n",
       "      <td>Merchant</td>\n",
       "      <td>Amazon.in</td>\n",
       "      <td>Standard</td>\n",
       "      <td>JNE3781</td>\n",
       "      <td>JNE3781-KR-XXXL</td>\n",
       "      <td>kurta</td>\n",
       "      <td>3XL</td>\n",
       "      <td>B09K3WFS32</td>\n",
       "      <td>Shipped</td>\n",
       "      <td>1</td>\n",
       "      <td>INR</td>\n",
       "      <td>406.00</td>\n",
       "      <td>BENGALURU</td>\n",
       "      <td>KARNATAKA</td>\n",
       "      <td>560085.0</td>\n",
       "      <td>IN</td>\n",
       "      <td>Amazon PLCC Free-Financing Universal Merchant ...</td>\n",
       "      <td>False</td>\n",
       "      <td>Easy Ship</td>\n",
       "      <td>NaN</td>\n",
       "    </tr>\n",
       "  </tbody>\n",
       "</table>\n",
       "</div>"
      ],
      "text/plain": [
       "   index             Order ID      Date                        Status  \\\n",
       "0      0  405-8078784-5731545  04-30-22                     Cancelled   \n",
       "1      1  171-9198151-1101146  04-30-22  Shipped - Delivered to Buyer   \n",
       "\n",
       "  Fulfilment Sales Channel  ship-service-level    Style              SKU  \\\n",
       "0   Merchant      Amazon.in           Standard   SET389   SET389-KR-NP-S   \n",
       "1   Merchant      Amazon.in           Standard  JNE3781  JNE3781-KR-XXXL   \n",
       "\n",
       "  Category Size        ASIN Courier Status  Qty currency  Amount  ship-city  \\\n",
       "0      Set    S  B09KXVBD7Z            NaN    0      INR  647.62     MUMBAI   \n",
       "1    kurta  3XL  B09K3WFS32        Shipped    1      INR  406.00  BENGALURU   \n",
       "\n",
       "    ship-state  ship-postal-code ship-country  \\\n",
       "0  MAHARASHTRA          400081.0           IN   \n",
       "1    KARNATAKA          560085.0           IN   \n",
       "\n",
       "                                       promotion-ids    B2B fulfilled-by  \\\n",
       "0                                                NaN  False    Easy Ship   \n",
       "1  Amazon PLCC Free-Financing Universal Merchant ...  False    Easy Ship   \n",
       "\n",
       "  Unnamed: 22  \n",
       "0         NaN  \n",
       "1         NaN  "
      ]
     },
     "execution_count": 202,
     "metadata": {},
     "output_type": "execute_result"
    }
   ],
   "source": [
    "df.head(2)"
   ]
  },
  {
   "cell_type": "code",
   "execution_count": 203,
   "metadata": {},
   "outputs": [
    {
     "data": {
      "text/plain": [
       "(128975, 24)"
      ]
     },
     "execution_count": 203,
     "metadata": {},
     "output_type": "execute_result"
    }
   ],
   "source": [
    "df.shape"
   ]
  },
  {
   "cell_type": "code",
   "execution_count": 204,
   "metadata": {},
   "outputs": [
    {
     "data": {
      "text/plain": [
       "array([nan, False], dtype=object)"
      ]
     },
     "execution_count": 204,
     "metadata": {},
     "output_type": "execute_result"
    }
   ],
   "source": [
    "df['Unnamed: 22'].unique()"
   ]
  },
  {
   "cell_type": "code",
   "execution_count": 205,
   "metadata": {},
   "outputs": [
    {
     "name": "stdout",
     "output_type": "stream",
     "text": [
      "<class 'pandas.core.frame.DataFrame'>\n",
      "RangeIndex: 128975 entries, 0 to 128974\n",
      "Data columns (total 24 columns):\n",
      " #   Column              Non-Null Count   Dtype  \n",
      "---  ------              --------------   -----  \n",
      " 0   index               128975 non-null  int64  \n",
      " 1   Order ID            128975 non-null  object \n",
      " 2   Date                128975 non-null  object \n",
      " 3   Status              128975 non-null  object \n",
      " 4   Fulfilment          128975 non-null  object \n",
      " 5   Sales Channel       128975 non-null  object \n",
      " 6   ship-service-level  128975 non-null  object \n",
      " 7   Style               128975 non-null  object \n",
      " 8   SKU                 128975 non-null  object \n",
      " 9   Category            128975 non-null  object \n",
      " 10  Size                128975 non-null  object \n",
      " 11  ASIN                128975 non-null  object \n",
      " 12  Courier Status      122103 non-null  object \n",
      " 13  Qty                 128975 non-null  int64  \n",
      " 14  currency            121180 non-null  object \n",
      " 15  Amount              121180 non-null  float64\n",
      " 16  ship-city           128942 non-null  object \n",
      " 17  ship-state          128942 non-null  object \n",
      " 18  ship-postal-code    128942 non-null  float64\n",
      " 19  ship-country        128942 non-null  object \n",
      " 20  promotion-ids       79822 non-null   object \n",
      " 21  B2B                 128975 non-null  bool   \n",
      " 22  fulfilled-by        39277 non-null   object \n",
      " 23  Unnamed: 22         79925 non-null   object \n",
      "dtypes: bool(1), float64(2), int64(2), object(19)\n",
      "memory usage: 22.8+ MB\n"
     ]
    }
   ],
   "source": [
    "df.info()"
   ]
  },
  {
   "cell_type": "code",
   "execution_count": 206,
   "metadata": {},
   "outputs": [
    {
     "data": {
      "text/plain": [
       "index                   int64\n",
       "Order ID               object\n",
       "Date                   object\n",
       "Status                 object\n",
       "Fulfilment             object\n",
       "Sales Channel          object\n",
       "ship-service-level     object\n",
       "Style                  object\n",
       "SKU                    object\n",
       "Category               object\n",
       "Size                   object\n",
       "ASIN                   object\n",
       "Courier Status         object\n",
       "Qty                     int64\n",
       "currency               object\n",
       "Amount                float64\n",
       "ship-city              object\n",
       "ship-state             object\n",
       "ship-postal-code      float64\n",
       "ship-country           object\n",
       "promotion-ids          object\n",
       "B2B                      bool\n",
       "fulfilled-by           object\n",
       "Unnamed: 22            object\n",
       "dtype: object"
      ]
     },
     "execution_count": 206,
     "metadata": {},
     "output_type": "execute_result"
    }
   ],
   "source": [
    "df.dtypes"
   ]
  },
  {
   "cell_type": "code",
   "execution_count": 207,
   "metadata": {},
   "outputs": [
    {
     "data": {
      "text/html": [
       "<div>\n",
       "<style scoped>\n",
       "    .dataframe tbody tr th:only-of-type {\n",
       "        vertical-align: middle;\n",
       "    }\n",
       "\n",
       "    .dataframe tbody tr th {\n",
       "        vertical-align: top;\n",
       "    }\n",
       "\n",
       "    .dataframe thead th {\n",
       "        text-align: right;\n",
       "    }\n",
       "</style>\n",
       "<table border=\"1\" class=\"dataframe\">\n",
       "  <thead>\n",
       "    <tr style=\"text-align: right;\">\n",
       "      <th></th>\n",
       "      <th>index</th>\n",
       "      <th>Qty</th>\n",
       "      <th>Amount</th>\n",
       "      <th>ship-postal-code</th>\n",
       "    </tr>\n",
       "  </thead>\n",
       "  <tbody>\n",
       "    <tr>\n",
       "      <th>count</th>\n",
       "      <td>128975.000000</td>\n",
       "      <td>128975.000000</td>\n",
       "      <td>121180.000000</td>\n",
       "      <td>128942.000000</td>\n",
       "    </tr>\n",
       "    <tr>\n",
       "      <th>mean</th>\n",
       "      <td>64487.000000</td>\n",
       "      <td>0.904431</td>\n",
       "      <td>648.561465</td>\n",
       "      <td>463966.236509</td>\n",
       "    </tr>\n",
       "    <tr>\n",
       "      <th>std</th>\n",
       "      <td>37232.019822</td>\n",
       "      <td>0.313354</td>\n",
       "      <td>281.211687</td>\n",
       "      <td>191476.764941</td>\n",
       "    </tr>\n",
       "    <tr>\n",
       "      <th>min</th>\n",
       "      <td>0.000000</td>\n",
       "      <td>0.000000</td>\n",
       "      <td>0.000000</td>\n",
       "      <td>110001.000000</td>\n",
       "    </tr>\n",
       "    <tr>\n",
       "      <th>25%</th>\n",
       "      <td>32243.500000</td>\n",
       "      <td>1.000000</td>\n",
       "      <td>449.000000</td>\n",
       "      <td>382421.000000</td>\n",
       "    </tr>\n",
       "    <tr>\n",
       "      <th>50%</th>\n",
       "      <td>64487.000000</td>\n",
       "      <td>1.000000</td>\n",
       "      <td>605.000000</td>\n",
       "      <td>500033.000000</td>\n",
       "    </tr>\n",
       "    <tr>\n",
       "      <th>75%</th>\n",
       "      <td>96730.500000</td>\n",
       "      <td>1.000000</td>\n",
       "      <td>788.000000</td>\n",
       "      <td>600024.000000</td>\n",
       "    </tr>\n",
       "    <tr>\n",
       "      <th>max</th>\n",
       "      <td>128974.000000</td>\n",
       "      <td>15.000000</td>\n",
       "      <td>5584.000000</td>\n",
       "      <td>989898.000000</td>\n",
       "    </tr>\n",
       "  </tbody>\n",
       "</table>\n",
       "</div>"
      ],
      "text/plain": [
       "               index            Qty         Amount  ship-postal-code\n",
       "count  128975.000000  128975.000000  121180.000000     128942.000000\n",
       "mean    64487.000000       0.904431     648.561465     463966.236509\n",
       "std     37232.019822       0.313354     281.211687     191476.764941\n",
       "min         0.000000       0.000000       0.000000     110001.000000\n",
       "25%     32243.500000       1.000000     449.000000     382421.000000\n",
       "50%     64487.000000       1.000000     605.000000     500033.000000\n",
       "75%     96730.500000       1.000000     788.000000     600024.000000\n",
       "max    128974.000000      15.000000    5584.000000     989898.000000"
      ]
     },
     "execution_count": 207,
     "metadata": {},
     "output_type": "execute_result"
    }
   ],
   "source": [
    "df.describe()"
   ]
  },
  {
   "cell_type": "code",
   "execution_count": 208,
   "metadata": {},
   "outputs": [
    {
     "data": {
      "image/png": "[encoded data removed]",
      "text/plain": [
       "<Figure size 720x432 with 1 Axes>"
      ]
     },
     "metadata": {
      "needs_background": "light"
     },
     "output_type": "display_data"
    }
   ],
   "source": [
    "# Distribuição das Variáveis\n",
    "\n",
    "plt.figure(figsize=(10, 6))\n",
    "sns.histplot(df['Qty'], bins=20, kde=True)\n",
    "plt.title('Distribuição da Quantidade Vendida')\n",
    "plt.xlabel('Quantidade')\n",
    "plt.ylabel('Frequência')\n",
    "plt.show()"
   ]
  },
  {
   "cell_type": "code",
   "execution_count": 209,
   "metadata": {},
   "outputs": [
    {
     "data": {
      "image/png": "[encoded data removed]",
      "text/plain": [
       "<Figure size 720x432 with 1 Axes>"
      ]
     },
     "metadata": {
      "needs_background": "light"
     },
     "output_type": "display_data"
    }
   ],
   "source": [
    "# boxplot da quantidade vendida por categoria\n",
    "plt.figure(figsize=(10, 6))\n",
    "sns.boxplot(x='Category', y='Qty', data=df)\n",
    "plt.title('Distribuição da Quantidade Vendida por Categoria')\n",
    "plt.xlabel('Categoria de Produto')\n",
    "plt.ylabel('Quantidade Vendida')\n",
    "plt.xticks(rotation=45)\n",
    "plt.show()"
   ]
  },
  {
   "cell_type": "code",
   "execution_count": 210,
   "metadata": {},
   "outputs": [
    {
     "data": {
      "text/plain": [
       "index                     0\n",
       "Order ID                  0\n",
       "Date                      0\n",
       "Status                    0\n",
       "Fulfilment                0\n",
       "Sales Channel             0\n",
       "ship-service-level        0\n",
       "Style                     0\n",
       "SKU                       0\n",
       "Category                  0\n",
       "Size                      0\n",
       "ASIN                      0\n",
       "Courier Status         6872\n",
       "Qty                       0\n",
       "currency               7795\n",
       "Amount                 7795\n",
       "ship-city                33\n",
       "ship-state               33\n",
       "ship-postal-code         33\n",
       "ship-country             33\n",
       "promotion-ids         49153\n",
       "B2B                       0\n",
       "fulfilled-by          89698\n",
       "Unnamed: 22           49050\n",
       "dtype: int64"
      ]
     },
     "execution_count": 210,
     "metadata": {},
     "output_type": "execute_result"
    }
   ],
   "source": [
    "df.isnull().sum()\n"
   ]
  },
  {
   "cell_type": "code",
   "execution_count": 211,
   "metadata": {},
   "outputs": [
    {
     "data": {
      "text/plain": [
       "Category       Fulfilment\n",
       "Blouse         Amazon          676\n",
       "               Merchant        187\n",
       "Bottom         Amazon          238\n",
       "               Merchant        160\n",
       "Dupatta        Amazon            3\n",
       "Ethnic Dress   Amazon          796\n",
       "               Merchant        257\n",
       "Saree          Amazon          127\n",
       "               Merchant         25\n",
       "Set            Amazon        33136\n",
       "               Merchant      12153\n",
       "Top            Amazon         7733\n",
       "               Merchant       2170\n",
       "Western Dress  Amazon         8060\n",
       "               Merchant       5883\n",
       "kurta          Amazon        33318\n",
       "               Merchant      11727\n",
       "Name: Qty, dtype: int64"
      ]
     },
     "execution_count": 211,
     "metadata": {},
     "output_type": "execute_result"
    }
   ],
   "source": [
    "df.groupby(['Category', 'Fulfilment'])['Qty'].sum()"
   ]
  },
  {
   "cell_type": "code",
   "execution_count": 212,
   "metadata": {},
   "outputs": [
    {
     "name": "stdout",
     "output_type": "stream",
     "text": [
      "Limite Inferior: 1.0, Limite Superior: 1.0\n"
     ]
    }
   ],
   "source": [
    "# Calcular limites para outliers usando o método IQR\n",
    "Q1 = df['Qty'].quantile(0.25)\n",
    "Q3 = df['Qty'].quantile(0.75)\n",
    "IQR = Q3 - Q1\n",
    "limite_inferior = Q1 - 1.5 * IQR\n",
    "limite_superior = Q3 + 1.5 * IQR\n",
    "print(f'Limite Inferior: {limite_inferior}, Limite Superior: {limite_superior}')\n",
    "\n",
    "# Identificar outliers\n",
    "outliers = df[(df['Qty'] < limite_inferior) | (df['Qty'] > limite_superior)]"
   ]
  },
  {
   "cell_type": "code",
   "execution_count": 213,
   "metadata": {},
   "outputs": [
    {
     "data": {
      "text/html": [
       "<div>\n",
       "<style scoped>\n",
       "    .dataframe tbody tr th:only-of-type {\n",
       "        vertical-align: middle;\n",
       "    }\n",
       "\n",
       "    .dataframe tbody tr th {\n",
       "        vertical-align: top;\n",
       "    }\n",
       "\n",
       "    .dataframe thead th {\n",
       "        text-align: right;\n",
       "    }\n",
       "</style>\n",
       "<table border=\"1\" class=\"dataframe\">\n",
       "  <thead>\n",
       "    <tr style=\"text-align: right;\">\n",
       "      <th></th>\n",
       "      <th>index</th>\n",
       "      <th>Order ID</th>\n",
       "      <th>Date</th>\n",
       "      <th>Status</th>\n",
       "      <th>Fulfilment</th>\n",
       "      <th>Sales Channel</th>\n",
       "      <th>ship-service-level</th>\n",
       "      <th>Style</th>\n",
       "      <th>SKU</th>\n",
       "      <th>Category</th>\n",
       "      <th>Size</th>\n",
       "      <th>ASIN</th>\n",
       "      <th>Courier Status</th>\n",
       "      <th>Qty</th>\n",
       "      <th>currency</th>\n",
       "      <th>Amount</th>\n",
       "      <th>ship-city</th>\n",
       "      <th>ship-state</th>\n",
       "      <th>ship-postal-code</th>\n",
       "      <th>ship-country</th>\n",
       "      <th>promotion-ids</th>\n",
       "      <th>B2B</th>\n",
       "      <th>fulfilled-by</th>\n",
       "      <th>Unnamed: 22</th>\n",
       "    </tr>\n",
       "  </thead>\n",
       "  <tbody>\n",
       "    <tr>\n",
       "      <th>0</th>\n",
       "      <td>0</td>\n",
       "      <td>405-8078784-5731545</td>\n",
       "      <td>04-30-22</td>\n",
       "      <td>Cancelled</td>\n",
       "      <td>Merchant</td>\n",
       "      <td>Amazon.in</td>\n",
       "      <td>Standard</td>\n",
       "      <td>SET389</td>\n",
       "      <td>SET389-KR-NP-S</td>\n",
       "      <td>Set</td>\n",
       "      <td>S</td>\n",
       "      <td>B09KXVBD7Z</td>\n",
       "      <td>NaN</td>\n",
       "      <td>0</td>\n",
       "      <td>INR</td>\n",
       "      <td>647.62</td>\n",
       "      <td>MUMBAI</td>\n",
       "      <td>MAHARASHTRA</td>\n",
       "      <td>400081.0</td>\n",
       "      <td>IN</td>\n",
       "      <td>NaN</td>\n",
       "      <td>False</td>\n",
       "      <td>Easy Ship</td>\n",
       "      <td>NaN</td>\n",
       "    </tr>\n",
       "    <tr>\n",
       "      <th>3</th>\n",
       "      <td>3</td>\n",
       "      <td>403-9615377-8133951</td>\n",
       "      <td>04-30-22</td>\n",
       "      <td>Cancelled</td>\n",
       "      <td>Merchant</td>\n",
       "      <td>Amazon.in</td>\n",
       "      <td>Standard</td>\n",
       "      <td>J0341</td>\n",
       "      <td>J0341-DR-L</td>\n",
       "      <td>Western Dress</td>\n",
       "      <td>L</td>\n",
       "      <td>B099NRCT7B</td>\n",
       "      <td>NaN</td>\n",
       "      <td>0</td>\n",
       "      <td>INR</td>\n",
       "      <td>753.33</td>\n",
       "      <td>PUDUCHERRY</td>\n",
       "      <td>PUDUCHERRY</td>\n",
       "      <td>605008.0</td>\n",
       "      <td>IN</td>\n",
       "      <td>NaN</td>\n",
       "      <td>False</td>\n",
       "      <td>Easy Ship</td>\n",
       "      <td>NaN</td>\n",
       "    </tr>\n",
       "  </tbody>\n",
       "</table>\n",
       "</div>"
      ],
      "text/plain": [
       "   index             Order ID      Date     Status Fulfilment Sales Channel   \\\n",
       "0      0  405-8078784-5731545  04-30-22  Cancelled   Merchant      Amazon.in   \n",
       "3      3  403-9615377-8133951  04-30-22  Cancelled   Merchant      Amazon.in   \n",
       "\n",
       "  ship-service-level   Style             SKU       Category Size        ASIN  \\\n",
       "0           Standard  SET389  SET389-KR-NP-S            Set    S  B09KXVBD7Z   \n",
       "3           Standard   J0341      J0341-DR-L  Western Dress    L  B099NRCT7B   \n",
       "\n",
       "  Courier Status  Qty currency  Amount   ship-city   ship-state  \\\n",
       "0            NaN    0      INR  647.62      MUMBAI  MAHARASHTRA   \n",
       "3            NaN    0      INR  753.33  PUDUCHERRY   PUDUCHERRY   \n",
       "\n",
       "   ship-postal-code ship-country promotion-ids    B2B fulfilled-by Unnamed: 22  \n",
       "0          400081.0           IN           NaN  False    Easy Ship         NaN  \n",
       "3          605008.0           IN           NaN  False    Easy Ship         NaN  "
      ]
     },
     "execution_count": 213,
     "metadata": {},
     "output_type": "execute_result"
    }
   ],
   "source": [
    "outliers.head(2)"
   ]
  },
  {
   "cell_type": "markdown",
   "metadata": {},
   "source": [
    "### Hipóteses Estatísticas:\n",
    "\n",
    "- **Hipótese Nula (H0):** As variâncias entre os grupos são iguais (homogeneidade das variâncias).\n",
    "- **Hipótese Alternativa (H1):** Pelo menos uma das variâncias é diferente das outras (heterogeneidade das variâncias).\n",
    "\n",
    "### Valor-p (p-value):\n",
    "\n",
    "- Se o valor-p é maior que o nível de significância (0.05), não rejeitamos a hipótese nula (H0). Isso significa que não há evidências suficientes para concluir que as variâncias entre os grupos são diferentes.\n",
    "- Se o valor-p é menor ou igual ao nível de significância (geralmente 0.05), rejeitamos a hipótese nula (H0). Isso sugere que pelo menos uma das variâncias entre os grupos é estatisticamente diferente.\n",
    "\n",
    "### Teste de Levene\n",
    "- O teste de Levene foi escolhido para verificar a homogeneidade das variâncias entre diferentes grupos de dados, especificamente para determinar se as quantidades vendidas de diferentes categorias de produtos têm variâncias estatisticamente semelhantes."
   ]
  },
  {
   "cell_type": "code",
   "execution_count": 214,
   "metadata": {},
   "outputs": [],
   "source": [
    "# Teste de Homogeneidade de Variância (Teste de Levene)\n",
    "grouped_data = df.groupby('Category')['Qty'].apply(list)\n",
    "homogeneity_test = stats.levene(*grouped_data)\n"
   ]
  },
  {
   "cell_type": "code",
   "execution_count": 215,
   "metadata": {},
   "outputs": [
    {
     "name": "stdout",
     "output_type": "stream",
     "text": [
      "Teste de Levene - Estatística: 13.13878415469667, p-valor: 3.913638426907572e-19\n",
      "O valor-p é menor ou igual a 0.05. Rejeitamos a hipótese nula, indicando heterogeneidade nas variâncias entre os grupos.\n"
     ]
    }
   ],
   "source": [
    "# Interpretar os resultados\n",
    "print(f'Teste de Levene - Estatística: {homogeneity_test.statistic}, p-valor: {homogeneity_test.pvalue}')\n",
    "\n",
    "if homogeneity_test.pvalue > 0.05:\n",
    "    print(\"Não há evidências suficientes para rejeitar a hipótese nula. As variâncias entre os grupos são homogêneas.\")\n",
    "else:\n",
    "    print(\"O valor-p é menor ou igual a 0.05. Rejeitamos a hipótese nula, indicando heterogeneidade nas variâncias entre os grupos.\")"
   ]
  },
  {
   "cell_type": "markdown",
   "metadata": {},
   "source": [
    "### Escolha do algoritmo\n",
    "\n",
    "- A ideia inicial seria utilizar o KMeans, porém o Hierarchical Clustering foi escolhido como uma alternativa, especialmente considerando os resultados do teste de Levene que indicaram heterogeneidade nas variâncias entre os grupos de quantidade vendida. \n",
    "\n",
    "- O Hierarchical Clustering não requer que os clusters tenham formas geométricas específicas ou que as variâncias sejam homogêneas entre os grupos. Isso o torna adequado para lidar com a heterogeneidade das variâncias identificada pelo teste de Levene.\n",
    "\n",
    "- O Hierarchical Clustering pode ser menos sensível a outliers em comparação com o K-means, pois não é tão influenciado por centroides e distâncias médias que podem ser distorcidas por pontos extremos."
   ]
  },
  {
   "cell_type": "markdown",
   "metadata": {},
   "source": [
    "### Limpeza e tratamento do dataset"
   ]
  },
  {
   "cell_type": "code",
   "execution_count": 216,
   "metadata": {},
   "outputs": [],
   "source": [
    "df = df.drop(columns=['Unnamed: 22'])"
   ]
  },
  {
   "cell_type": "code",
   "execution_count": 217,
   "metadata": {},
   "outputs": [],
   "source": [
    "df = df[df['Status'] != 'Cancelled']"
   ]
  },
  {
   "cell_type": "code",
   "execution_count": 218,
   "metadata": {},
   "outputs": [
    {
     "data": {
      "text/plain": [
       "Index(['index', 'Order ID', 'Date', 'Status', 'Fulfilment', 'Sales Channel ',\n",
       "       'ship-service-level', 'Style', 'SKU', 'Category', 'Size', 'ASIN',\n",
       "       'Courier Status', 'Qty', 'currency', 'Amount', 'ship-city',\n",
       "       'ship-state', 'ship-postal-code', 'ship-country', 'promotion-ids',\n",
       "       'B2B', 'fulfilled-by'],\n",
       "      dtype='object')"
      ]
     },
     "execution_count": 218,
     "metadata": {},
     "output_type": "execute_result"
    }
   ],
   "source": [
    "df.columns"
   ]
  },
  {
   "cell_type": "code",
   "execution_count": 219,
   "metadata": {},
   "outputs": [],
   "source": [
    "# Selecionar colunas relevantes \n",
    "colunas_selecionadas = ['Category', 'Fulfilment', 'Qty']\n",
    "df_cluster = df[colunas_selecionadas].copy()\n",
    "df_cluster.dropna(inplace=True)\n",
    "df_cluster = pd.pivot_table(df_cluster, values='Qty', index='Category', columns='Fulfilment', aggfunc=np.sum, fill_value=0)"
   ]
  },
  {
   "cell_type": "markdown",
   "metadata": {},
   "source": [
    "### Aplicando o algoritmo"
   ]
  },
  {
   "cell_type": "code",
   "execution_count": 220,
   "metadata": {},
   "outputs": [
    {
     "data": {
      "text/html": [
       "<div>\n",
       "<style scoped>\n",
       "    .dataframe tbody tr th:only-of-type {\n",
       "        vertical-align: middle;\n",
       "    }\n",
       "\n",
       "    .dataframe tbody tr th {\n",
       "        vertical-align: top;\n",
       "    }\n",
       "\n",
       "    .dataframe thead th {\n",
       "        text-align: right;\n",
       "    }\n",
       "</style>\n",
       "<table border=\"1\" class=\"dataframe\">\n",
       "  <thead>\n",
       "    <tr style=\"text-align: right;\">\n",
       "      <th>Category</th>\n",
       "      <th>Blouse</th>\n",
       "      <th>Bottom</th>\n",
       "      <th>Dupatta</th>\n",
       "      <th>Ethnic Dress</th>\n",
       "      <th>Saree</th>\n",
       "      <th>Set</th>\n",
       "      <th>Top</th>\n",
       "      <th>Western Dress</th>\n",
       "      <th>kurta</th>\n",
       "    </tr>\n",
       "    <tr>\n",
       "      <th>Fulfilment</th>\n",
       "      <th></th>\n",
       "      <th></th>\n",
       "      <th></th>\n",
       "      <th></th>\n",
       "      <th></th>\n",
       "      <th></th>\n",
       "      <th></th>\n",
       "      <th></th>\n",
       "      <th></th>\n",
       "    </tr>\n",
       "  </thead>\n",
       "  <tbody>\n",
       "    <tr>\n",
       "      <th>Amazon</th>\n",
       "      <td>644</td>\n",
       "      <td>224</td>\n",
       "      <td>3</td>\n",
       "      <td>759</td>\n",
       "      <td>122</td>\n",
       "      <td>30880</td>\n",
       "      <td>7198</td>\n",
       "      <td>7535</td>\n",
       "      <td>31065</td>\n",
       "    </tr>\n",
       "    <tr>\n",
       "      <th>Merchant</th>\n",
       "      <td>187</td>\n",
       "      <td>160</td>\n",
       "      <td>0</td>\n",
       "      <td>257</td>\n",
       "      <td>25</td>\n",
       "      <td>12153</td>\n",
       "      <td>2170</td>\n",
       "      <td>5883</td>\n",
       "      <td>11727</td>\n",
       "    </tr>\n",
       "  </tbody>\n",
       "</table>\n",
       "</div>"
      ],
      "text/plain": [
       "Category    Blouse  Bottom  Dupatta  Ethnic Dress  Saree    Set   Top  \\\n",
       "Fulfilment                                                              \n",
       "Amazon         644     224        3           759    122  30880  7198   \n",
       "Merchant       187     160        0           257     25  12153  2170   \n",
       "\n",
       "Category    Western Dress  kurta  \n",
       "Fulfilment                        \n",
       "Amazon               7535  31065  \n",
       "Merchant             5883  11727  "
      ]
     },
     "execution_count": 220,
     "metadata": {},
     "output_type": "execute_result"
    }
   ],
   "source": [
    "df_cluster.T"
   ]
  },
  {
   "cell_type": "markdown",
   "metadata": {},
   "source": [
    "A escolha do método Ward para o Hierarchical Clustering foi baseada na sua capacidade de minimizar a variância dentro de cada cluster. Este método calcula a soma dos quadrados das diferenças das observações dentro de cada grupo, garantindo que os clusters formados sejam compactos e homogêneos. Isso significa que o método Ward é adequado quando queremos clusters bem definidos e coesos, minimizando a variância intracluster e destacando padrões claros nos dados. Dessa forma, optei pelo método Ward para garantir que os clusters identificados sejam estatisticamente robustos e interpretáveis para a análise subsequente.\n"
   ]
  },
  {
   "cell_type": "code",
   "execution_count": 221,
   "metadata": {},
   "outputs": [
    {
     "data": {
      "image/png": "[encoded data removed]",
      "text/plain": [
       "<Figure size 1080x576 with 1 Axes>"
      ]
     },
     "metadata": {
      "needs_background": "light"
     },
     "output_type": "display_data"
    }
   ],
   "source": [
    "dist_euclidiana = pdist(df_cluster, metric='euclidean')\n",
    "\n",
    "clusters = linkage(dist_euclidiana, method='ward')  # Método 'ward' para minimização da variância\n",
    "\n",
    "# Plota o dendrograma\n",
    "plt.figure(figsize=(15, 8))\n",
    "dendrogram_c = dendrogram(clusters, labels=df_cluster.index, orientation='top', leaf_rotation=90, leaf_font_size=10, color_threshold = 4.5)\n",
    "plt.title('Dendrograma Hierárquico')\n",
    "plt.xlabel('Índices dos Itens')\n",
    "plt.ylabel('Distância Euclidiana')\n",
    "plt.axhline(y = 3000, color = 'red', linestyle = '--')\n",
    "plt.show()"
   ]
  },
  {
   "cell_type": "markdown",
   "metadata": {},
   "source": [
    "Analisando o dendrograma e utilizando o método do salto na distância vertical, podemos interpretar como os clusters são formados hierarquicamente. No dendrograma:\n",
    "\n",
    "- **Identificamos os Saltos Significativos:** Observamos os pontos onde a distância vertical entre os clusters aumenta abruptamente. Esses saltos indicam uma divisão substancial nos dados, sugerindo que os clusters formados após esses pontos são mais distintos em termos de características dos dados.\n",
    "\n",
    "- **Decisão sobre o Número de Clusters:** Utilizamos o método do maior salto para escolher o número de clusters antes de um grande aumento na distância vertical. Isso garante que os clusters sejam suficientemente distintos sem subdividir excessivamente os dados.\n",
    "\n",
    "Ao aplicar esse método ao dendrograma, conseguimos determinar objetivamente o número ideal de clusters, o que facilita a interpretação dos grupos formados e ajuda na aplicação de análises mais detalhadas sobre cada cluster identificado.\n",
    "\n",
    "Com isso foram definidos 4 clusters."
   ]
  },
  {
   "cell_type": "code",
   "execution_count": 227,
   "metadata": {},
   "outputs": [
    {
     "data": {
      "text/plain": [
       "[121.59769734661919,\n",
       " 134.6291201783626,\n",
       " 252.55626435839338,\n",
       " 464.4362173646668,\n",
       " 939.9491120977418,\n",
       " 3728.2620616045756,\n",
       " 13568.989824491093,\n",
       " 53889.25411051168]"
      ]
     },
     "execution_count": 227,
     "metadata": {},
     "output_type": "execute_result"
    }
   ],
   "source": [
    "# Coeficientes do esquema hierárquico de aglomeração (ward)\n",
    "coef_avg = [y[1] for y in dendrogram_c['dcoord']]\n",
    "\n",
    "sorted(coef_avg)"
   ]
  },
  {
   "cell_type": "code",
   "execution_count": 226,
   "metadata": {},
   "outputs": [],
   "source": [
    "# Gerando a variável com a indicação do cluster no dataset\n",
    "\n",
    "cluster_avg = AgglomerativeClustering(n_clusters = 4, metric = 'euclidean', linkage = 'ward')\n",
    "indica_cluster_avg = cluster_avg.fit_predict(df_cluster)\n",
    "df_cluster['cluster_ward_linkage'] = indica_cluster_avg\n",
    "df_cluster['cluster_ward_linkage'] = df_cluster['cluster_ward_linkage'].astype('category')"
   ]
  },
  {
   "cell_type": "code",
   "execution_count": 223,
   "metadata": {},
   "outputs": [
    {
     "data": {
      "text/html": [
       "<div>\n",
       "<style scoped>\n",
       "    .dataframe tbody tr th:only-of-type {\n",
       "        vertical-align: middle;\n",
       "    }\n",
       "\n",
       "    .dataframe tbody tr th {\n",
       "        vertical-align: top;\n",
       "    }\n",
       "\n",
       "    .dataframe thead th {\n",
       "        text-align: right;\n",
       "    }\n",
       "</style>\n",
       "<table border=\"1\" class=\"dataframe\">\n",
       "  <thead>\n",
       "    <tr style=\"text-align: right;\">\n",
       "      <th>Fulfilment</th>\n",
       "      <th>Amazon</th>\n",
       "      <th>Merchant</th>\n",
       "      <th>cluster_ward_linkage</th>\n",
       "    </tr>\n",
       "    <tr>\n",
       "      <th>Category</th>\n",
       "      <th></th>\n",
       "      <th></th>\n",
       "      <th></th>\n",
       "    </tr>\n",
       "  </thead>\n",
       "  <tbody>\n",
       "    <tr>\n",
       "      <th>Blouse</th>\n",
       "      <td>644</td>\n",
       "      <td>187</td>\n",
       "      <td>0</td>\n",
       "    </tr>\n",
       "    <tr>\n",
       "      <th>Bottom</th>\n",
       "      <td>224</td>\n",
       "      <td>160</td>\n",
       "      <td>0</td>\n",
       "    </tr>\n",
       "    <tr>\n",
       "      <th>Dupatta</th>\n",
       "      <td>3</td>\n",
       "      <td>0</td>\n",
       "      <td>0</td>\n",
       "    </tr>\n",
       "    <tr>\n",
       "      <th>Ethnic Dress</th>\n",
       "      <td>759</td>\n",
       "      <td>257</td>\n",
       "      <td>0</td>\n",
       "    </tr>\n",
       "    <tr>\n",
       "      <th>Saree</th>\n",
       "      <td>122</td>\n",
       "      <td>25</td>\n",
       "      <td>0</td>\n",
       "    </tr>\n",
       "    <tr>\n",
       "      <th>Set</th>\n",
       "      <td>30880</td>\n",
       "      <td>12153</td>\n",
       "      <td>1</td>\n",
       "    </tr>\n",
       "    <tr>\n",
       "      <th>kurta</th>\n",
       "      <td>31065</td>\n",
       "      <td>11727</td>\n",
       "      <td>1</td>\n",
       "    </tr>\n",
       "    <tr>\n",
       "      <th>Western Dress</th>\n",
       "      <td>7535</td>\n",
       "      <td>5883</td>\n",
       "      <td>2</td>\n",
       "    </tr>\n",
       "    <tr>\n",
       "      <th>Top</th>\n",
       "      <td>7198</td>\n",
       "      <td>2170</td>\n",
       "      <td>3</td>\n",
       "    </tr>\n",
       "  </tbody>\n",
       "</table>\n",
       "</div>"
      ],
      "text/plain": [
       "Fulfilment     Amazon  Merchant cluster_ward_linkage\n",
       "Category                                            \n",
       "Blouse            644       187                    0\n",
       "Bottom            224       160                    0\n",
       "Dupatta             3         0                    0\n",
       "Ethnic Dress      759       257                    0\n",
       "Saree             122        25                    0\n",
       "Set             30880     12153                    1\n",
       "kurta           31065     11727                    1\n",
       "Western Dress    7535      5883                    2\n",
       "Top              7198      2170                    3"
      ]
     },
     "execution_count": 223,
     "metadata": {},
     "output_type": "execute_result"
    }
   ],
   "source": [
    "df_cluster.sort_values(by='cluster_ward_linkage')"
   ]
  },
  {
   "cell_type": "markdown",
   "metadata": {},
   "source": [
    "Os resultados da tabela fornecem uma visão da distribuição de produtos por categoria e tipo de fulfilment (Amazon e Merchant), juntamente com os clusters resultantes do método de Ward (cluster_ward_linkage). Aqui estão algumas maneiras de utilizar esses resultados:\n",
    "\n",
    "- **Segmentação de Produtos por Fulfilment:** Os clusters ajudam a entender como diferentes tipos de produtos são distribuídos entre os métodos de fulfilment da empresa. Isso pode ser útil para gestão de inventário, estratégias de marketing e alocação de recursos específicos para cada tipo de fulfilment.\n",
    "\n",
    "- **Análise de Desempenho por Categoria:** Com base nos clusters, é possível comparar o desempenho de vendas entre categorias de produtos agrupadas. Isso pode revelar insights sobre quais categorias são mais populares ou lucrativas em diferentes tipos de fulfilment.\n",
    "\n",
    "- **Avaliação de Eficiência Operacional:** Os clusters também podem ser usados para avaliar a eficiência operacional, identificando áreas onde ajustes nos processos de fulfilment podem ser necessários com base nas características dos produtos.\n",
    "\n",
    "- **Planejamento Estratégico:** Utilize esses clusters para orientar decisões estratégicas, como expansão de inventário, escolha de fornecedores ou adaptação de políticas de preços, considerando as especificidades de cada grupo de produtos e métodos de fulfilment."
   ]
  }
 ],
 "metadata": {
  "kernelspec": {
   "display_name": "Python 3",
   "language": "python",
   "name": "python3"
  },
  "language_info": {
   "codemirror_mode": {
    "name": "ipython",
    "version": 3
   },
   "file_extension": ".py",
   "mimetype": "text/x-python",
   "name": "python",
   "nbconvert_exporter": "python",
   "pygments_lexer": "ipython3",
   "version": "3.8.6rc1"
  }
 },
 "nbformat": 4,
 "nbformat_minor": 2
}
